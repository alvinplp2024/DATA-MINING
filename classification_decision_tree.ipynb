{
 "cells": [
  {
   "cell_type": "code",
   "execution_count": 6,
   "id": "03a60a2a-5229-4f95-946f-a1acd575513d",
   "metadata": {},
   "outputs": [
    {
     "name": "stdout",
     "output_type": "stream",
     "text": [
      "Collecting graphviz\n",
      "  Obtaining dependency information for graphviz from https://files.pythonhosted.org/packages/de/5e/fcbb22c68208d39edff467809d06c9d81d7d27426460ebc598e55130c1aa/graphviz-0.20.1-py3-none-any.whl.metadata\n",
      "  Downloading graphviz-0.20.1-py3-none-any.whl.metadata (12 kB)\n",
      "Downloading graphviz-0.20.1-py3-none-any.whl (47 kB)\n",
      "   ---------------------------------------- 0.0/47.0 kB ? eta -:--:--\n",
      "   ---------------------------------------- 0.0/47.0 kB ? eta -:--:--\n",
      "   -------- ------------------------------- 10.2/47.0 kB ? eta -:--:--\n",
      "   -------- ------------------------------- 10.2/47.0 kB ? eta -:--:--\n",
      "   -------- ------------------------------- 10.2/47.0 kB ? eta -:--:--\n",
      "   -------- ------------------------------- 10.2/47.0 kB ? eta -:--:--\n",
      "   ----------------- ---------------------- 20.5/47.0 kB 50.2 kB/s eta 0:00:01\n",
      "   ----------------- ---------------------- 20.5/47.0 kB 50.2 kB/s eta 0:00:01\n",
      "   ----------------- ---------------------- 20.5/47.0 kB 50.2 kB/s eta 0:00:01\n",
      "   ----------------- ---------------------- 20.5/47.0 kB 50.2 kB/s eta 0:00:01\n",
      "   -------------------------- ------------- 30.7/47.0 kB 50.3 kB/s eta 0:00:01\n",
      "   -------------------------- ------------- 30.7/47.0 kB 50.3 kB/s eta 0:00:01\n",
      "   -------------------------- ------------- 30.7/47.0 kB 50.3 kB/s eta 0:00:01\n",
      "   -------------------------- ------------- 30.7/47.0 kB 50.3 kB/s eta 0:00:01\n",
      "   ---------------------------------- ----- 41.0/47.0 kB 54.6 kB/s eta 0:00:01\n",
      "   ---------------------------------- ----- 41.0/47.0 kB 54.6 kB/s eta 0:00:01\n",
      "   ---------------------------------- ----- 41.0/47.0 kB 54.6 kB/s eta 0:00:01\n",
      "   ---------------------------------- ----- 41.0/47.0 kB 54.6 kB/s eta 0:00:01\n",
      "   ---------------------------------- ----- 41.0/47.0 kB 54.6 kB/s eta 0:00:01\n",
      "   ---------------------------------- ----- 41.0/47.0 kB 54.6 kB/s eta 0:00:01\n",
      "   ---------------------------------- ----- 41.0/47.0 kB 54.6 kB/s eta 0:00:01\n",
      "   ---------------------------------- ----- 41.0/47.0 kB 54.6 kB/s eta 0:00:01\n",
      "   ---------------------------------- ----- 41.0/47.0 kB 54.6 kB/s eta 0:00:01\n",
      "   ---------------------------------- ----- 41.0/47.0 kB 54.6 kB/s eta 0:00:01\n",
      "   ---------------------------------- ----- 41.0/47.0 kB 54.6 kB/s eta 0:00:01\n",
      "   ---------------------------------- ----- 41.0/47.0 kB 54.6 kB/s eta 0:00:01\n",
      "   ---------------------------------------- 47.0/47.0 kB 32.2 kB/s eta 0:00:00\n",
      "Installing collected packages: graphviz\n",
      "Successfully installed graphviz-0.20.1\n",
      "Note: you may need to restart the kernel to use updated packages.\n"
     ]
    }
   ],
   "source": [
    "pip install graphviz"
   ]
  },
  {
   "cell_type": "code",
   "execution_count": 14,
   "id": "42c26c0b-71a4-4f62-a331-a62e6e3c7de8",
   "metadata": {},
   "outputs": [
    {
     "name": "stdout",
     "output_type": "stream",
     "text": [
      "Collecting pydotplus\n",
      "  Downloading pydotplus-2.0.2.tar.gz (278 kB)\n",
      "     ---------------------------------------- 0.0/278.7 kB ? eta -:--:--\n",
      "     ---- ----------------------------------- 30.7/278.7 kB ? eta -:--:--\n",
      "     ---- ----------------------------------- 30.7/278.7 kB ? eta -:--:--\n",
      "     ---- ----------------------------------- 30.7/278.7 kB ? eta -:--:--\n",
      "     ----- ------------------------------- 41.0/278.7 kB 217.9 kB/s eta 0:00:02\n",
      "     ----- ------------------------------- 41.0/278.7 kB 217.9 kB/s eta 0:00:02\n",
      "     ----- ------------------------------- 41.0/278.7 kB 217.9 kB/s eta 0:00:02\n",
      "     ----- ------------------------------- 41.0/278.7 kB 217.9 kB/s eta 0:00:02\n",
      "     ----- ------------------------------- 41.0/278.7 kB 217.9 kB/s eta 0:00:02\n",
      "     ----- ------------------------------- 41.0/278.7 kB 217.9 kB/s eta 0:00:02\n",
      "     ----- ------------------------------- 41.0/278.7 kB 217.9 kB/s eta 0:00:02\n",
      "     ----- ------------------------------- 41.0/278.7 kB 217.9 kB/s eta 0:00:02\n",
      "     ----- ------------------------------- 41.0/278.7 kB 217.9 kB/s eta 0:00:02\n",
      "     -------- ----------------------------- 61.4/278.7 kB 90.9 kB/s eta 0:00:03\n",
      "     -------- ----------------------------- 61.4/278.7 kB 90.9 kB/s eta 0:00:03\n",
      "     -------- ----------------------------- 61.4/278.7 kB 90.9 kB/s eta 0:00:03\n",
      "     -------- ----------------------------- 61.4/278.7 kB 90.9 kB/s eta 0:00:03\n",
      "     -------- ----------------------------- 61.4/278.7 kB 90.9 kB/s eta 0:00:03\n",
      "     -------- ----------------------------- 61.4/278.7 kB 90.9 kB/s eta 0:00:03\n",
      "     ---------------------- ------------- 174.1/278.7 kB 183.9 kB/s eta 0:00:01\n",
      "     ---------------------- ------------- 174.1/278.7 kB 183.9 kB/s eta 0:00:01\n",
      "     ---------------------- ------------- 174.1/278.7 kB 183.9 kB/s eta 0:00:01\n",
      "     ---------------------- ------------- 174.1/278.7 kB 183.9 kB/s eta 0:00:01\n",
      "     ------------------------- ---------- 194.6/278.7 kB 161.5 kB/s eta 0:00:01\n",
      "     ------------------------- ---------- 194.6/278.7 kB 161.5 kB/s eta 0:00:01\n",
      "     ------------------------- ---------- 194.6/278.7 kB 161.5 kB/s eta 0:00:01\n",
      "     ------------------------- ---------- 194.6/278.7 kB 161.5 kB/s eta 0:00:01\n",
      "     ------------------------- ---------- 194.6/278.7 kB 161.5 kB/s eta 0:00:01\n",
      "     ----------------------------- ------ 225.3/278.7 kB 151.2 kB/s eta 0:00:01\n",
      "     ----------------------------- ------ 225.3/278.7 kB 151.2 kB/s eta 0:00:01\n",
      "     ----------------------------- ------ 225.3/278.7 kB 151.2 kB/s eta 0:00:01\n",
      "     ----------------------------- ------ 225.3/278.7 kB 151.2 kB/s eta 0:00:01\n",
      "     ----------------------------- ------ 225.3/278.7 kB 151.2 kB/s eta 0:00:01\n",
      "     ----------------------------- ------ 225.3/278.7 kB 151.2 kB/s eta 0:00:01\n",
      "     ----------------------------- ------ 225.3/278.7 kB 151.2 kB/s eta 0:00:01\n",
      "     -----------------------------------  276.5/278.7 kB 152.1 kB/s eta 0:00:01\n",
      "     -----------------------------------  276.5/278.7 kB 152.1 kB/s eta 0:00:01\n",
      "     -----------------------------------  276.5/278.7 kB 152.1 kB/s eta 0:00:01\n",
      "     -----------------------------------  276.5/278.7 kB 152.1 kB/s eta 0:00:01\n",
      "     -----------------------------------  276.5/278.7 kB 152.1 kB/s eta 0:00:01\n",
      "     -----------------------------------  276.5/278.7 kB 152.1 kB/s eta 0:00:01\n",
      "     -----------------------------------  276.5/278.7 kB 152.1 kB/s eta 0:00:01\n",
      "     ------------------------------------ 278.7/278.7 kB 126.3 kB/s eta 0:00:00\n",
      "  Preparing metadata (setup.py): started\n",
      "  Preparing metadata (setup.py): finished with status 'done'\n",
      "Requirement already satisfied: pyparsing>=2.0.1 in c:\\users\\jacin\\anaconda3\\lib\\site-packages (from pydotplus) (3.0.9)\n",
      "Building wheels for collected packages: pydotplus\n",
      "  Building wheel for pydotplus (setup.py): started\n",
      "  Building wheel for pydotplus (setup.py): finished with status 'done'\n",
      "  Created wheel for pydotplus: filename=pydotplus-2.0.2-py3-none-any.whl size=24578 sha256=2548328b67e321803688d5578ce24037e8329580c253a1e836a4b9cab940b962\n",
      "  Stored in directory: c:\\users\\jacin\\appdata\\local\\pip\\cache\\wheels\\bd\\ce\\e8\\ff9d9c699514922f57caa22fbd55b0a32761114b4c4acc9e03\n",
      "Successfully built pydotplus\n",
      "Installing collected packages: pydotplus\n",
      "Successfully installed pydotplus-2.0.2\n",
      "Note: you may need to restart the kernel to use updated packages.\n"
     ]
    }
   ],
   "source": [
    "pip install pydotplus"
   ]
  },
  {
   "cell_type": "code",
   "execution_count": 22,
   "id": "38a4db4b-4b8e-43fe-9bad-96ff37195bea",
   "metadata": {},
   "outputs": [
    {
     "ename": "NameError",
     "evalue": "name 'humidity_classifier' is not defined",
     "output_type": "error",
     "traceback": [
      "\u001b[1;31m---------------------------------------------------------------------------\u001b[0m",
      "\u001b[1;31mNameError\u001b[0m                                 Traceback (most recent call last)",
      "Cell \u001b[1;32mIn[22], line 7\u001b[0m\n\u001b[0;32m      4\u001b[0m \u001b[38;5;28;01mimport\u001b[39;00m \u001b[38;5;21;01mpydotplus\u001b[39;00m\n\u001b[0;32m      6\u001b[0m dot_data \u001b[38;5;241m=\u001b[39m StringIO()\n\u001b[1;32m----> 7\u001b[0m export_graphviz(humidity_classifier, out_file\u001b[38;5;241m=\u001b[39mdot_data,  \n\u001b[0;32m      8\u001b[0m                 filled\u001b[38;5;241m=\u001b[39m\u001b[38;5;28;01mTrue\u001b[39;00m, rounded\u001b[38;5;241m=\u001b[39m\u001b[38;5;28;01mTrue\u001b[39;00m,\n\u001b[0;32m      9\u001b[0m                 special_characters\u001b[38;5;241m=\u001b[39m\u001b[38;5;28;01mTrue\u001b[39;00m)\n\u001b[0;32m     11\u001b[0m graph \u001b[38;5;241m=\u001b[39m pydotplus\u001b[38;5;241m.\u001b[39mgraph_from_dot_data(dot_data\u001b[38;5;241m.\u001b[39mgetvalue())  \n\u001b[0;32m     12\u001b[0m Image(graph\u001b[38;5;241m.\u001b[39mcreate_png())\n",
      "\u001b[1;31mNameError\u001b[0m: name 'humidity_classifier' is not defined"
     ]
    }
   ],
   "source": [
    "from io import StringIO  \n",
    "from IPython.display import Image  \n",
    "from sklearn.tree import export_graphviz\n",
    "import pydotplus\n",
    "\n",
    "dot_data = StringIO()\n",
    "export_graphviz(humidity_classifier, out_file=dot_data,  \n",
    "                filled=True, rounded=True,\n",
    "                special_characters=True)\n",
    "\n",
    "graph = pydotplus.graph_from_dot_data(dot_data.getvalue())  \n",
    "Image(graph.create_png())"
   ]
  },
  {
   "cell_type": "code",
   "execution_count": null,
   "id": "a283c9f7-66d2-4d3a-b3d6-aaf5ad22a0c6",
   "metadata": {},
   "outputs": [],
   "source": []
  }
 ],
 "metadata": {
  "kernelspec": {
   "display_name": "Python 3 (ipykernel)",
   "language": "python",
   "name": "python3"
  },
  "language_info": {
   "codemirror_mode": {
    "name": "ipython",
    "version": 3
   },
   "file_extension": ".py",
   "mimetype": "text/x-python",
   "name": "python",
   "nbconvert_exporter": "python",
   "pygments_lexer": "ipython3",
   "version": "3.11.5"
  }
 },
 "nbformat": 4,
 "nbformat_minor": 5
}
